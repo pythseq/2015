{
  "nbformat": 4,
  "nbformat_minor": 0,
  "metadata": {
    "colab": {
      "private_outputs": true,
      "provenance": [],
      "collapsed_sections": [
        "AfkzQJ84Whys",
        "_hzj4dAWZT0O",
        "_4u0G6UVarIH",
        "AVn4Bd9KbSao",
        "emK1xRw-cMLx"
      ],
      "toc_visible": true,
      "include_colab_link": true
    },
    "kernelspec": {
      "name": "python3",
      "display_name": "Python 3"
    }
  },
  "cells": [
    {
      "cell_type": "markdown",
      "metadata": {
        "id": "view-in-github",
        "colab_type": "text"
      },
      "source": [
        "<a href=\"https://colab.research.google.com/github/pythseq/2015/blob/master/python3_rest_course.ipynb\" target=\"_parent\"><img src=\"https://colab.research.google.com/assets/colab-badge.svg\" alt=\"Open In Colab\"/></a>"
      ]
    },
    {
      "cell_type": "markdown",
      "metadata": {
        "id": "NldczlRiWWKz"
      },
      "source": [
        "# Ensembl REST API course\n",
        "\n",
        "Welcome to the Ensembl REST API course. This Jupyter notebook contains all you need to complete this course, including sample code, space to write your own code and sample answers, which can all be run within the notebook in Python.\n",
        "\n",
        "To run the code within a cell, select it and hit Run."
      ]
    },
    {
      "cell_type": "markdown",
      "metadata": {
        "id": "nLauWcKWZtj3"
      },
      "source": [
        "## REST calls in the browser\n",
        "\n",
        "Our first REST call will be the [ping call](http://rest.ensembl.org/documentation/info/ping) which checks your connection to the database:\n",
        "\n",
        "[http://rest.ensembl.org/info/ping?content-type=application/json](http://rest.ensembl.org/info/ping?content-type=application/json)\n",
        "\n",
        "Our next call will [get information about a gene](http://rest.ensembl.org/documentation/info/lookup), using the Ensembl gene ID:\n",
        "\n",
        "[http://rest.ensembl.org/lookup/id/ENSG00000157764?content-type=application/json](http://rest.ensembl.org/lookup/id/ENSG00000157764?content-type=application/json)"
      ]
    },
    {
      "cell_type": "markdown",
      "metadata": {
        "id": "g3Pu_kkWZ0Bs"
      },
      "source": [
        "## Exercises 1\n",
        "\n",
        "The first set of exercises just use URLs in the browser. You cannot do these within the Python notebook, however we have provided a box where you can note them down.\n",
        "\n",
        "1. Find an endpoint which you can use to lookup information about a gene using its symbol.\n",
        "2. Create a URL to find information about the gene *ESPN* in human.\n",
        "3. Expand your results to include information about transcripts.\n",
        "\n",
        "Answers:"
      ]
    },
    {
      "cell_type": "markdown",
      "metadata": {
        "id": "UGwEUev3WWK6"
      },
      "source": [
        "1. GET lookup/symbol/:species/:symbol"
      ]
    },
    {
      "cell_type": "markdown",
      "metadata": {
        "id": "1ODaBxGmWWK7"
      },
      "source": [
        "2.https://rest.ensembl.org/lookup/symbol/homo_sapiens/ESPN?;content-type=application/json "
      ]
    },
    {
      "cell_type": "markdown",
      "metadata": {
        "id": "pV2MaQlFWWK7"
      },
      "source": [
        "3.https://rest.ensembl.org/lookup/symbol/homo_sapiens/ESPN?expand=1;content-type=application/json"
      ]
    },
    {
      "cell_type": "markdown",
      "metadata": {
        "id": "rHWoR-37YoMq"
      },
      "source": [
        "# Making requests with Python\n",
        "\n",
        "To make a request, you'll need to specify the server and extension, using the requests module."
      ]
    },
    {
      "cell_type": "code",
      "metadata": {
        "trusted": true,
        "id": "Eh6dF3X3YoMy"
      },
      "source": [
        "import requests, sys\n",
        "\n",
        "server = \"http://rest.ensembl.org\"\n",
        "ext = \"/lookup/id/ENSG00000157764\"\n",
        " \n",
        "r = requests.get(server+ext, headers={ \"Content-Type\" : \"application/json\"})\n",
        "\n",
        "print (r)"
      ],
      "execution_count": null,
      "outputs": []
    },
    {
      "cell_type": "markdown",
      "metadata": {
        "id": "grvhbEbxYoMz"
      },
      "source": [
        "Never assume that your request has worked. If it doesn't work, you should check the response code."
      ]
    },
    {
      "cell_type": "code",
      "metadata": {
        "trusted": true,
        "id": "UzddAlrZYoM0"
      },
      "source": [
        "import requests, sys\n",
        "\n",
        "server = \"http://rest.ensembl.org\"\n",
        "ext = \"/lookup/id/ENSG00000157764\"\n",
        " \n",
        "r = requests.get(server+ext, headers={ \"Content-Type\" : \"application/json\"})\n",
        "\n",
        "if not r.ok:\n",
        "    r.raise_for_status()\n"
      ],
      "execution_count": null,
      "outputs": []
    },
    {
      "cell_type": "markdown",
      "metadata": {
        "id": "fRB08JaRYoM0"
      },
      "source": [
        "If you get responses in json (recommended), you can then decode them. I've also imported the pretty print (pprint) module from python, which makes my json easy to read. You'll find this useful during the exercises to see how the json looks."
      ]
    },
    {
      "cell_type": "code",
      "metadata": {
        "trusted": true,
        "id": "7cZDC0slYoM1"
      },
      "source": [
        "import requests, sys, json\n",
        "from pprint import pprint\n",
        "\n",
        "server = \"http://rest.ensembl.org\"\n",
        "ext = \"/lookup/id/ENSG00000157764\"\n",
        " \n",
        "r = requests.get(server+ext, headers={ \"Content-Type\" : \"application/json\"})\n",
        "\n",
        "if not r.ok:\n",
        "    r.raise_for_status()\n",
        "\n",
        "decoded = r.json()\n",
        "\n",
        "pprint (decoded)"
      ],
      "execution_count": null,
      "outputs": []
    },
    {
      "cell_type": "markdown",
      "metadata": {
        "id": "V3VYWHn3YoM1"
      },
      "source": [
        "The helper function allows you to call the request, check the status and decode the json in a single line in your script. If you're using lots of REST calls in your script, creating the function at the beginning of your script will save you a lot of time."
      ]
    },
    {
      "cell_type": "code",
      "metadata": {
        "trusted": true,
        "id": "-EYgyiyNYoM1"
      },
      "source": [
        "import requests, sys, json\n",
        "from pprint import pprint\n",
        "\n",
        "def fetch_endpoint(server, request, content_type):\n",
        "\n",
        "    r = requests.get(server+request, headers={ \"Content-Type\" : content_type})\n",
        "\n",
        "    if not r.ok:\n",
        "        r.raise_for_status()\n",
        "        sys.exit()\n",
        "\n",
        "    if content_type == 'application/json':\n",
        "        return r.json()\n",
        "    else:\n",
        "        return r.text\n",
        "\n",
        "\n",
        "server = \"http://rest.ensembl.org/\"\n",
        "ext = \"lookup/id/ENSG00000157764?\"\n",
        "con = \"application/json\"\n",
        "get_gene = fetch_endpoint(server, ext, con)\n",
        "\n",
        "pprint (get_gene)"
      ],
      "execution_count": null,
      "outputs": []
    },
    {
      "cell_type": "markdown",
      "metadata": {
        "id": "Z4zPpOiBYoM2"
      },
      "source": [
        "## Exercises 2\n",
        "\n",
        "1. Write a script to **lookup** the gene called *ESPN* in human and print the results in json."
      ]
    },
    {
      "cell_type": "code",
      "metadata": {
        "trusted": true,
        "id": "cQ9eRa0cYoM2"
      },
      "source": [
        "# Exercise 2.1"
      ],
      "execution_count": null,
      "outputs": []
    },
    {
      "cell_type": "markdown",
      "metadata": {
        "id": "AfkzQJ84Whys"
      },
      "source": [
        "## Exercises 2 – answers\n",
        "\n",
        "1. Write a script to **lookup** the gene called *ESPN* in human and print the results in json."
      ]
    },
    {
      "cell_type": "code",
      "metadata": {
        "trusted": true,
        "id": "usQwykXyWhyz"
      },
      "source": [
        "#!/usr/bin/env python\n",
        "\n",
        "# Get modules needed for script\n",
        "import sys, requests, json\n",
        "from pprint import pprint\n",
        "\n",
        "def fetch_endpoint(server, request, content_type):\n",
        "\n",
        "    r = requests.get(server+request, headers={ \"Accept\" : content_type})\n",
        "\n",
        "    if not r.ok:\n",
        "        r.raise_for_status()\n",
        "        sys.exit()\n",
        "\n",
        "    if content_type == 'application/json':\n",
        "        return r.json()\n",
        "    else:\n",
        "        return r.text\n",
        "\n",
        "# define the gene name\n",
        "gene_name = \"ESPN\"\n",
        "\n",
        "# define the general URL parameters\n",
        "server = \"http://rest.ensembl.org/\"\n",
        "\n",
        "# define REST query to get the gene ID from the gene name\n",
        "ext_get_lookup = \"lookup/symbol/homo_sapiens/\" + gene_name + \"?\"\n",
        "\n",
        "# define the content type\n",
        "con = \"application/json\"\n",
        "\n",
        "# submit the query\n",
        "get_lookup = fetch_endpoint(server, ext_get_lookup, con)\n",
        "\n",
        "pprint (get_lookup)"
      ],
      "execution_count": null,
      "outputs": []
    },
    {
      "cell_type": "markdown",
      "metadata": {
        "id": "P_-6I5NfZF5Q"
      },
      "source": [
        "# Using results\n",
        "\n",
        "Since json is a dictionary, you can pull out a single datapoint using the key.\n",
        "\n",
        "```\n",
        "{\n",
        "  \"source\": \"ensembl_havana\",\n",
        "  \"object_type\": \"Gene\",\n",
        "  \"logic_name\": \"ensembl_havana_gene\",\n",
        "  \"version\": 12,\n",
        "  \"species\": \"homo_sapiens\",\n",
        "  \"description\": \"B-Raf proto-oncogene, serine/threonine kinase [Source:HGNC Symbol;Acc:HGNC:1097]\",\n",
        "  \"display_name\": \"BRAF\",\n",
        "  \"assembly_name\": \"GRCh38\",\n",
        "  \"biotype\": \"protein_coding\",\n",
        "  \"end\": 140924764,\n",
        "  \"seq_region_name\": \"7\",\n",
        "  \"db_type\": \"core\",\n",
        "  \"strand\": -1,\n",
        "  \"id\": \"ENSG00000157764\",\n",
        "  \"start\": 140719327\n",
        "}\n",
        "```\n",
        "\n",
        "We can add this to our previous script:"
      ]
    },
    {
      "cell_type": "code",
      "metadata": {
        "trusted": true,
        "id": "Zu5yIqT0ZF5Z"
      },
      "source": [
        "import requests, json\n",
        "from pprint import pprint\n",
        "\n",
        "def fetch_endpoint(server, request, content_type):\n",
        "\n",
        "    r = requests.get(server+request, headers={ \"Accept\" : content_type})\n",
        "\n",
        "    if not r.ok:\n",
        "        r.raise_for_status()\n",
        "        sys.exit()\n",
        "\n",
        "    if content_type == 'application/json':\n",
        "        return r.json()\n",
        "    else:\n",
        "        return r.text\n",
        "\n",
        "\n",
        "server = \"http://rest.ensembl.org/\"\n",
        "ext = \"lookup/id/ENSG00000157764?\"\n",
        "con = \"application/json\"\n",
        "get_gene = fetch_endpoint(server, ext, con)\n",
        "\n",
        "symbol = get_gene['display_name']\n",
        "print (symbol)"
      ],
      "execution_count": null,
      "outputs": []
    },
    {
      "cell_type": "markdown",
      "metadata": {
        "id": "_5U1l7D_n6rD"
      },
      "source": [
        "If the output of an endpoint contains a list, you can use a for loop to move through it."
      ]
    },
    {
      "cell_type": "code",
      "metadata": {
        "id": "l7KEZbiioD_h"
      },
      "source": [
        "import requests, sys, json\n",
        "from pprint import pprint\n",
        "\n",
        "def fetch_endpoint(server, request, content_type):\n",
        "\n",
        "    r = requests.get(server+request, headers={ \"Accept\" : content_type})\n",
        "\n",
        "    if not r.ok:\n",
        "        r.raise_for_status()\n",
        "        sys.exit()\n",
        "\n",
        "    if content_type == 'application/json':\n",
        "        return r.json()\n",
        "    else:\n",
        "        return r.text\n",
        "\n",
        "# Run a query to get all the genes overlapping a locus.\n",
        "# This will get a list as output.\n",
        "locus = \"17:63992802..64038237\"\n",
        "server = \"http://rest.ensembl.org/\"\n",
        "ext_get_overlap = \"overlap/region/human/\" + locus + \"?feature=gene\";\n",
        "con = \"application/json\"\n",
        "get_overlap = fetch_endpoint(server, ext_get_overlap, con)\n",
        "\n",
        "# Move through all the genes in the list and print details\n",
        "for gene in get_overlap:\n",
        "  print (gene['id'], gene['external_name'], sep=\" \")"
      ],
      "execution_count": null,
      "outputs": []
    },
    {
      "cell_type": "markdown",
      "metadata": {
        "id": "YdgentcZ1F9V"
      },
      "source": [
        "Where a dictionary contains a dictionary, you may need to layer up your keys to get the next level down."
      ]
    },
    {
      "cell_type": "code",
      "metadata": {
        "id": "IVGT_8fl1kxu"
      },
      "source": [
        "import requests, sys, json\n",
        "from pprint import pprint\n",
        "\n",
        "def fetch_endpoint(server, request, content_type):\n",
        "\n",
        "    r = requests.get(server+request, headers={ \"Accept\" : content_type})\n",
        "\n",
        "    if not r.ok:\n",
        "        r.raise_for_status()\n",
        "        sys.exit()\n",
        "\n",
        "    if content_type == 'application/json':\n",
        "        return r.json()\n",
        "    else:\n",
        "        return r.text\n",
        "\n",
        "# Get a gene tree using its ID\n",
        "gene_tree = \"ENSGT00390000003602\"\n",
        "server = \"http://rest.ensembl.org/\"\n",
        "ext_gt = \"genetree/id/\" + gene_tree + \"?\"\n",
        "con = \"application/json\"\n",
        "get_gt = fetch_endpoint(server, ext_gt, con)\n",
        "\n",
        "# The json looks like:\n",
        "# {\n",
        "#   \"type\": \"gene tree\",\n",
        "#   \"rooted\": 1,\n",
        "#   \"tree\": {\n",
        "#     \"taxonomy\": {\n",
        "#       \"id\": 7742,\n",
        "#       \"scientific_name\": \"Vertebrata\",\n",
        "#       \"timetree_mya\": 615,\n",
        "#       \"common_name\": \"Vertebrates\"\n",
        "# So we need to go down three levels to get the common name\n",
        "taxonomy = get_gt['tree']['taxonomy']['common_name']\n",
        "\n",
        "print(taxonomy)"
      ],
      "execution_count": null,
      "outputs": []
    },
    {
      "cell_type": "markdown",
      "metadata": {
        "id": "cq6ISK-JZF5b"
      },
      "source": [
        "## Exercises 3\n",
        "\n",
        "1\\. Write a script to lookup the gene called *ESPN* in human and print the stable ID of this gene."
      ]
    },
    {
      "cell_type": "code",
      "metadata": {
        "trusted": true,
        "id": "IziEhaSoZF5b"
      },
      "source": [
        "# Exercise 3.1"
      ],
      "execution_count": null,
      "outputs": []
    },
    {
      "cell_type": "markdown",
      "metadata": {
        "id": "HlyHLpp-ZF5c"
      },
      "source": [
        "2\\. Get all variants that are associated with the phenotype 'Coffee consumption'. For each variant print\n",
        "\n",
        "   a. the p-value for the association\n",
        "   \n",
        "   b. the PMID for the publication which describes the association between that variant and ‘Coffee consumption’\n",
        "   \n",
        "   c. the risk allele and the associated gene."
      ]
    },
    {
      "cell_type": "code",
      "metadata": {
        "trusted": true,
        "id": "QNZEreQjZF5c"
      },
      "source": [
        "# Exercise 3.2"
      ],
      "execution_count": null,
      "outputs": []
    },
    {
      "cell_type": "markdown",
      "metadata": {
        "id": "tUTxoXxwZF5d"
      },
      "source": [
        "3\\. Get the mouse homologue of the human BRCA2 and print the ID and sequence of both.\n",
        "\n",
        "Note that the JSON for the endpoint you need is several layers deep, containing nested lists (appear as square brackets [ ] in the JSON) and key value sets (dictionary; appear as curly brackets { } in the JSON). Pretty print (pprint) comes in very useful here for the intermediate stage when you're trying to work out the json."
      ]
    },
    {
      "cell_type": "code",
      "metadata": {
        "trusted": true,
        "id": "wEjO-M9rZF5d"
      },
      "source": [
        "# Exercise 3.3"
      ],
      "execution_count": null,
      "outputs": []
    },
    {
      "cell_type": "markdown",
      "metadata": {
        "id": "_hzj4dAWZT0O"
      },
      "source": [
        "## Exercises 3 – answers\n",
        "\n",
        "1\\. Write a script to lookup the gene called *ESPN* in human and print the stable ID of this gene."
      ]
    },
    {
      "cell_type": "code",
      "metadata": {
        "trusted": true,
        "id": "f3Znw7n2ZT0Z"
      },
      "source": [
        "import requests, sys, json\n",
        "from pprint import pprint\n",
        "\n",
        "def fetch_endpoint(server, request, content_type):\n",
        "\n",
        "    r = requests.get(server+request, headers={ \"Accept\" : content_type})\n",
        "\n",
        "    if not r.ok:\n",
        "        r.raise_for_status()\n",
        "        sys.exit()\n",
        "\n",
        "    if content_type == 'application/json':\n",
        "        return r.json()\n",
        "    else:\n",
        "        return r.text\n",
        "\n",
        "# Get the gene name from the command line\n",
        "gene_name = \"ESPN\"\n",
        "\n",
        "# define the general URL parameters\n",
        "server = \"http://rest.ensembl.org/\"\n",
        "con = \"application/json\"\n",
        "ext_get_lookup = \"lookup/symbol/homo_sapiens/\" + gene_name + \"?\"\n",
        "\n",
        "# submit the query\n",
        "get_lookup = fetch_endpoint(server, ext_get_lookup, con)\n",
        "\n",
        "print (get_lookup['id'])"
      ],
      "execution_count": null,
      "outputs": []
    },
    {
      "cell_type": "markdown",
      "metadata": {
        "id": "2EQfyKDMZT0a"
      },
      "source": [
        "2\\. Get all variants that are associated with the phenotype 'Coffee consumption'. For each variant print:\n",
        "\n",
        "   a. the p-value for the association\n",
        "   \n",
        "   b. the PMID for the publication which describes the association between that variant and ‘Coffee consumption’\n",
        "   \n",
        "   c. the risk allele and the associated gene."
      ]
    },
    {
      "cell_type": "code",
      "metadata": {
        "trusted": true,
        "id": "obNED78kZT0b"
      },
      "source": [
        "import requests, sys, json\n",
        "from pprint import pprint\n",
        "\n",
        "def fetch_endpoint(server, request, content_type):\n",
        "\n",
        "    r = requests.get(server+request, headers={ \"Accept\" : content_type})\n",
        "\n",
        "    if not r.ok:\n",
        "        r.raise_for_status()\n",
        "        sys.exit()\n",
        "\n",
        "    if content_type == 'application/json':\n",
        "        return r.json()\n",
        "    else:\n",
        "        return r.text\n",
        "\n",
        "print (\"Variant\\tp-value\\tPub-med ID\\tRisk allele\\tGene\")\n",
        "\n",
        "# define the general URL parameters\n",
        "server = \"http://rest.ensembl.org/\"\n",
        "ext_phen = \"/phenotype/term/homo_sapiens/coffee consumption?\"\n",
        "con = \"application/json\"\n",
        "\n",
        "# submit the query\n",
        "get_phen = fetch_endpoint(server, ext_phen, con)\n",
        "\n",
        "for variant in get_phen:\n",
        "    id = variant['Variation']\n",
        "    pv = str(variant['attributes'].get('p_value'))\n",
        "    pmid = variant['attributes']['external_reference']\n",
        "    risk = str(variant['attributes'].get('risk_allele'))\n",
        "    gene = str(variant['attributes'].get('associated_gene'))\n",
        " \n",
        "    print (id + \"\\t\" + pv + \"\\t\" + pmid + \"\\t\" + risk + \"\\t\" + gene)"
      ],
      "execution_count": null,
      "outputs": []
    },
    {
      "cell_type": "markdown",
      "metadata": {
        "id": "RS55XEsfZT0b"
      },
      "source": [
        "3\\. Get the mouse homologue of the human BRCA2 and print the ID and the aligned sequence of both.\n",
        "\n",
        "Note that the JSON for the endpoint you need is several layers deep, containing nested lists (appear as square brackets [ ] in the JSON) and key value sets (appear as curly brackets { } in the JSON). Pretty print (pprint) comes in very useful here for the intermediate stage when you're trying to work out the json."
      ]
    },
    {
      "cell_type": "code",
      "metadata": {
        "trusted": true,
        "id": "kWcnckRlZT0c"
      },
      "source": [
        "import requests, sys, json\n",
        "from pprint import pprint\n",
        "\n",
        "def fetch_endpoint(server, request, content_type):\n",
        "\n",
        "    r = requests.get(server+request, headers={ \"Accept\" : content_type})\n",
        "\n",
        "    if not r.ok:\n",
        "        r.raise_for_status()\n",
        "        sys.exit()\n",
        "\n",
        "    if content_type == 'application/json':\n",
        "        return r.json()\n",
        "    else:\n",
        "        return r.text\n",
        "\n",
        "gene = \"BRCA2\"\n",
        "\n",
        "# define the general URL parameters\n",
        "server = \"http://rest.ensembl.org/\"\n",
        "ext_hom = \"homology/symbol/human/\" + gene + \"?target_species=mouse\"\n",
        "con = \"application/json\"\n",
        "\n",
        "get_hom = fetch_endpoint(server, ext_hom, con)\n",
        "\n",
        "for datum in get_hom['data']:\n",
        "    for homology in datum['homologies']:\n",
        "        source_id = homology['source']['id']\n",
        "        source_species = homology['source']['species']\n",
        "        source_seq = homology['source']['align_seq']\n",
        "        target_id = homology['target']['id']\n",
        "        target_seq = homology['target']['align_seq']\n",
        "        target_species = homology['target']['species']\n",
        "        \n",
        "        print (\">\", source_id + \" \" + source_species + \"\\n\" + source_seq + \"\\n>\", target_id + \" \" + target_species + \"\\n\" + target_seq)"
      ],
      "execution_count": null,
      "outputs": []
    },
    {
      "cell_type": "markdown",
      "metadata": {
        "id": "ruJWRiktah0M"
      },
      "source": [
        "# Other content types\n",
        "\n",
        "If you specify another content type (not json), the helper function will get you this as text\n",
        "This can be used to get:\n",
        "* Sequence in FASTA\n",
        "* Gene trees and homologues in various formats\n",
        "* Alignments\n",
        "\n",
        "```\n",
        "    if content_type == 'application/json':\n",
        "        return r.json()\n",
        "    else:\n",
        "        return r.text\n",
        "```\n",
        "The [REST documentation](https://github.com/Ensembl/ensembl-rest/wiki/Output-formats) lists how you specify the output formats.\n",
        "\n",
        "For example, to get genome features in BED, you need to specify the content type as `text/x-bed` not just `bed`:"
      ]
    },
    {
      "cell_type": "code",
      "metadata": {
        "trusted": true,
        "id": "zp7V3xKbah0U"
      },
      "source": [
        "import requests, sys, json\n",
        "\n",
        "def fetch_endpoint(server, request, content_type):\n",
        "\n",
        "    r = requests.get(server+request, headers={ \"Accept\" : content_type})\n",
        "\n",
        "    if not r.ok:\n",
        "        r.raise_for_status()\n",
        "        sys.exit()\n",
        "\n",
        "    if content_type == 'application/json':\n",
        "        return r.json()\n",
        "    else:\n",
        "        return r.text\n",
        "\n",
        "locus = \"5:62797383..62927669\"\n",
        "server = \"http://rest.ensembl.org/\"\n",
        "ext_get_bed = \"overlap/region/human/\" + locus + \"?feature=repeat\";\n",
        "\n",
        "get_bed = fetch_endpoint(server, ext_get_bed, \"text/x-bed\")\n",
        "\n",
        "# print the bed file\n",
        "print (get_bed)"
      ],
      "execution_count": null,
      "outputs": []
    },
    {
      "cell_type": "markdown",
      "metadata": {
        "id": "B4a1asN5ah0W"
      },
      "source": [
        "## Exercises 4 \n",
        "\n",
        "1\\. Get the gene tree predicted for the gene ENSG00000189221 in full nh format. "
      ]
    },
    {
      "cell_type": "code",
      "metadata": {
        "trusted": true,
        "id": "LKBU2Js4ah0W"
      },
      "source": [
        "# Exercise 4.1"
      ],
      "execution_count": null,
      "outputs": []
    },
    {
      "cell_type": "markdown",
      "metadata": {
        "id": "OJvl21WVah0X"
      },
      "source": [
        "2\\. Get the sequence of the gene ENSG00000157764 in FASTA."
      ]
    },
    {
      "cell_type": "code",
      "metadata": {
        "trusted": true,
        "id": "sX40k-K6ah0X"
      },
      "source": [
        "# Exercise 4.2"
      ],
      "execution_count": null,
      "outputs": []
    },
    {
      "cell_type": "markdown",
      "metadata": {
        "id": "_4u0G6UVarIH"
      },
      "source": [
        "## Exercises 4 – answers \n",
        "\n",
        "1\\. Get the gene tree predicted for the gene ENSG00000189221 in full nh format. "
      ]
    },
    {
      "cell_type": "code",
      "metadata": {
        "trusted": true,
        "id": "4-33TX1karIQ"
      },
      "source": [
        "import requests, sys, json\n",
        "\n",
        "def fetch_endpoint(server, request, content_type):\n",
        "\n",
        "    r = requests.get(server+request, headers={ \"Accept\" : content_type})\n",
        "\n",
        "    if not r.ok:\n",
        "        r.raise_for_status()\n",
        "        sys.exit()\n",
        "\n",
        "    if content_type == 'application/json':\n",
        "        return r.json()\n",
        "    else:\n",
        "        return r.text\n",
        "\n",
        "gene_id = \"ENSG00000189221\"\n",
        "\n",
        "# define the general URL parameters\n",
        "server = \"http://rest.ensembl.org/\"\n",
        "ext_gt = \"genetree/member/id/\" + gene_id + \"?nh_format=full;\"\n",
        "gt_content_type = \"text/x-nh\"\n",
        "get_gt = fetch_endpoint(server, ext_gt, gt_content_type)\n",
        "\n",
        "print (get_gt)"
      ],
      "execution_count": null,
      "outputs": []
    },
    {
      "cell_type": "markdown",
      "metadata": {
        "id": "ERzCFdMMarIS"
      },
      "source": [
        "2\\. Get the sequence of the gene ENSG00000157764 in FASTA."
      ]
    },
    {
      "cell_type": "code",
      "metadata": {
        "trusted": true,
        "id": "Y9XdzIcSarIS"
      },
      "source": [
        "import requests, sys, json\n",
        "\n",
        "def fetch_endpoint(server, request, content_type):\n",
        "\n",
        "    r = requests.get(server+request, headers={ \"Accept\" : content_type})\n",
        "\n",
        "    if not r.ok:\n",
        "        r.raise_for_status()\n",
        "        sys.exit()\n",
        "\n",
        "    if content_type == 'application/json':\n",
        "        return r.json()\n",
        "    else:\n",
        "        return r.text\n",
        "\n",
        "gene = \"ENSG00000157764\"\n",
        "server = \"http://rest.ensembl.org/\"\n",
        "ext_get_seq = \"/sequence/id/\" + gene + \"?\";\n",
        "\n",
        "get_seq = fetch_endpoint(server, ext_get_seq, \"text/x-fasta\")\n",
        "\n",
        "# print the gene name, ID and sequence\n",
        "print (get_seq)"
      ],
      "execution_count": null,
      "outputs": []
    },
    {
      "cell_type": "markdown",
      "metadata": {
        "id": "fna2_7Nla-Lg"
      },
      "source": [
        "# Linking endpoints together\n",
        "\n",
        "If you can pull a datapoint from the json, you can use it as input for another endpoint.\n",
        "\n",
        "For example, this script gets the symbol of a gene then looks up xrefs associated with it:"
      ]
    },
    {
      "cell_type": "code",
      "metadata": {
        "trusted": true,
        "id": "7d44AjPUa-Lo"
      },
      "source": [
        "import requests, json\n",
        "from pprint import pprint\n",
        "\n",
        "def fetch_endpoint(server, request, content_type):\n",
        "\n",
        "    r = requests.get(server+request, headers={ \"Accept\" : content_type})\n",
        "\n",
        "    if not r.ok:\n",
        "        r.raise_for_status()\n",
        "        sys.exit()\n",
        "\n",
        "    if content_type == 'application/json':\n",
        "        return r.json()\n",
        "    else:\n",
        "        return r.text\n",
        "\n",
        "\n",
        "server = \"http://rest.ensembl.org/\"\n",
        "gene_ext = \"lookup/id/ENSG00000157764?\"\n",
        "con = \"application/json\"\n",
        "get_gene = fetch_endpoint(server, gene_ext, con)\n",
        "\n",
        "symbol = get_gene['display_name']\n",
        "\n",
        "xrefs_ext = \"xrefs/symbol/human/\" + symbol + \"?\"\n",
        "get_xrefs = fetch_endpoint(server, xrefs_ext, con)\n",
        "\n",
        "pprint (get_xrefs)"
      ],
      "execution_count": null,
      "outputs": []
    },
    {
      "cell_type": "markdown",
      "metadata": {
        "id": "Zgrcw8Y5aXfh"
      },
      "source": [
        "## Linking to other REST APIs\n",
        "\n",
        "You can use multiple REST APIs in a single script. The example below takes the output from an Ensembl REST API endpoint, getting the phenotype associated with a variant, then inputs the PubMed ID into the [Europe PMC REST API](https://europepmc.org/RestfulWebService) to get the full text of the paper in XML:"
      ]
    },
    {
      "cell_type": "code",
      "metadata": {
        "id": "24xEVZSVbUiG"
      },
      "source": [
        "import requests, json\n",
        "from pprint import pprint\n",
        "\n",
        "def fetch_endpoint(server, request, content_type):\n",
        "\n",
        "    r = requests.get(server+request, headers={ \"Accept\" : content_type})\n",
        "\n",
        "    if not r.ok:\n",
        "        r.raise_for_status()\n",
        "        sys.exit()\n",
        "\n",
        "    if content_type == 'application/json':\n",
        "        return r.json()\n",
        "    else:\n",
        "        return r.text\n",
        "\n",
        "var = \"rs632180\"\n",
        "\n",
        "# get the Ensembl server and extension\n",
        "ens_serv = \"http://rest.ensembl.org/\"\n",
        "ens_ext = \"variation/human/\" + var + \"?phenotypes=1\"\n",
        "con = \"application/json\"\n",
        "\n",
        "get_var = fetch_endpoint(ens_serv, ens_ext, con)\n",
        "\n",
        "# move through the phenotypes (in this example there is only one but we still need this)\n",
        "# and pull out the PubMed ID, stripping off the \"PMID:\"\n",
        "for phen in get_var['phenotypes']:\n",
        "  pmid = phen['study'].replace(\"PMID:\", \"\")\n",
        "\n",
        "  # get the EuropePMC server and search extension and run the endpoint \n",
        "  pmc_serv = \"https://www.ebi.ac.uk/europepmc/webservices/rest/\"\n",
        "  pmc_search = \"search?query=\" + pmid + \"&format=json\"\n",
        "  get_pmc = fetch_endpoint(pmc_serv, pmc_search, con)\n",
        "\n",
        "  # since this was a search, this has given us a lot of results\n",
        "  # we need to move through the list and use an if to find the one where the id matches our input\n",
        "  # and pull out the pmcid\n",
        "  for result in get_pmc['resultList']['result']:\n",
        "    if pmid == result['pmid']:\n",
        "      pmcid = result['pmcid']\n",
        "       \n",
        "      # we can use the pmcid as input for the full text XML endpoint\n",
        "      # we need a new extension\n",
        "      pmc_text = pmcid + \"/fullTextXML\"\n",
        "      get_text = fetch_endpoint(pmc_serv, pmc_text, \"application/xml\")\n",
        "      print(get_text)\n"
      ],
      "execution_count": null,
      "outputs": []
    },
    {
      "cell_type": "markdown",
      "metadata": {
        "id": "aIc7u7Ixa-Lp"
      },
      "source": [
        "## Exercises 5\n",
        "\n",
        "1\\. Using the script from 3.1, add a call to fetch and print the sequence for the gene *ESPN* in FASTA."
      ]
    },
    {
      "cell_type": "code",
      "metadata": {
        "trusted": true,
        "id": "CvTASPQqa-Lq"
      },
      "source": [
        "# Exercise 5.1"
      ],
      "execution_count": null,
      "outputs": []
    },
    {
      "cell_type": "markdown",
      "metadata": {
        "id": "2xFIFAwRa-Lq"
      },
      "source": [
        "2\\. Print the stable ID of any regulatory features that overlap the region 1000 bp upstream of the ESPN gene. (Hints: lookup the gene first to get the coordinates, then check the strand of the gene to see which way is upstream, and use this to create coordinates to query.)"
      ]
    },
    {
      "cell_type": "code",
      "metadata": {
        "trusted": true,
        "id": "NDhat3eua-Lq"
      },
      "source": [
        "# Exercise 5.2"
      ],
      "execution_count": null,
      "outputs": []
    },
    {
      "cell_type": "markdown",
      "metadata": {
        "id": "AVn4Bd9KbSao"
      },
      "source": [
        "## Exercises 5 - answers\n",
        "\n",
        "1\\. Using the script from 3.1, add a call to fetch and print the sequence for the gene *ESPN* in FASTA."
      ]
    },
    {
      "cell_type": "code",
      "metadata": {
        "trusted": true,
        "id": "vOJmY4kUbSav"
      },
      "source": [
        "import requests, sys, json\n",
        "from pprint import pprint\n",
        "\n",
        "\n",
        "def fetch_endpoint(server, request, content_type):\n",
        "\n",
        "    r = requests.get(server+request, headers={ \"Accept\" : content_type})\n",
        "\n",
        "    if not r.ok:\n",
        "        r.raise_for_status()\n",
        "        sys.exit()\n",
        "\n",
        "    if content_type == 'application/json':\n",
        "        return r.json()\n",
        "    else:\n",
        "        return r.text\n",
        "\n",
        "# Get the gene name\n",
        "gene_name = \"ESPN\"\n",
        "\n",
        "# define the general URL parameters\n",
        "server = \"http://rest.ensembl.org/\"\n",
        "con = \"application/json\"\n",
        "ext_get_lookup = \"lookup/symbol/homo_sapiens/\" + gene_name + \"?\"\n",
        "\n",
        "# submit the query\n",
        "get_lookup = fetch_endpoint(server, ext_get_lookup, con)\n",
        "\n",
        "# define the REST query to get the sequence from the gene\n",
        "ext_get_seq = \"/sequence/id/\" + get_lookup['id'] + \"?\";\n",
        "get_seq = fetch_endpoint(server, ext_get_seq, \"text/x-fasta\")\n",
        "\n",
        "# print the gene name, ID and sequence\n",
        "print (get_seq)"
      ],
      "execution_count": null,
      "outputs": []
    },
    {
      "cell_type": "markdown",
      "metadata": {
        "id": "QjKndzcwbSax"
      },
      "source": [
        "2\\. Print the stable ID of any regulatory features that overlap the region 1000 bp upstream of the *ESPN* gene. (Hints: get the gene info first, then check the strand of the gene to see which way is upstream.)"
      ]
    },
    {
      "cell_type": "code",
      "metadata": {
        "trusted": true,
        "id": "xF8CEydTbSay"
      },
      "source": [
        "import requests, sys, json\n",
        "from pprint import pprint\n",
        "\n",
        "def fetch_endpoint(server, request, content_type):\n",
        "\n",
        "    r = requests.get(server+request, headers={ \"Accept\" : content_type})\n",
        "\n",
        "    if not r.ok:\n",
        "        r.raise_for_status()\n",
        "        sys.exit()\n",
        "\n",
        "    if content_type == 'application/json':\n",
        "        return r.json()\n",
        "    else:\n",
        "        return r.text\n",
        "\n",
        "server = \"http://rest.ensembl.org/\"\n",
        "con = \"application/json\"\n",
        "\n",
        "gene_name = \"ESPN\"\n",
        "ext_get_lookup = \"lookup/symbol/homo_sapiens/\" + gene_name + \"?\"\n",
        "get_lookup = fetch_endpoint(server, ext_get_lookup, con)\n",
        "\n",
        "if get_lookup['strand'] == 1:\n",
        "    locus = str(get_lookup['seq_region_name']) + \":\" + str(get_lookup['start'] - 1000) + \"-\" + str(get_lookup['start'])\n",
        "\n",
        "else:\n",
        "    locus =  str(get_lookup['seq_region_name']) + \":\" + str(get_lookup['end']) + \"-\" + str(get_lookup['end'] + 1000)\n",
        "\n",
        "overlap_ext = \"overlap/region/human/\" + locus + \"?feature=regulatory;\"\n",
        "\n",
        "get_overlap = fetch_endpoint(server, overlap_ext, con)\n",
        "\n",
        "for rf in get_overlap:\n",
        "    id = rf['id']\n",
        "    print (id)"
      ],
      "execution_count": null,
      "outputs": []
    },
    {
      "cell_type": "markdown",
      "metadata": {
        "id": "q62Jvbw8b2Lr"
      },
      "source": [
        "# Using POST\n",
        "\n",
        "POST allows you to run a query with multiple inputs at once. The output will be a dictionary of dictionaries."
      ]
    },
    {
      "cell_type": "code",
      "metadata": {
        "trusted": true,
        "id": "FN41m-xXb2L2"
      },
      "source": [
        "import requests, sys\n",
        "from pprint import pprint\n",
        "\n",
        "server = \"http://rest.ensembl.org\"\n",
        "ext = \"/lookup/id\"\n",
        "headers={ \"Content-Type\" : \"application/json\", \"Accept\" : \"application/json\"}\n",
        "r = requests.post(server+ext, headers=headers, data='{ \"ids\" : [\"ENSG00000157764\", \"ENSG00000248378\" ] }')\n",
        "\n",
        "# error checking removed for space\n",
        " \n",
        "decoded = r.json()\n",
        "pprint (decoded)\n"
      ],
      "execution_count": null,
      "outputs": []
    },
    {
      "cell_type": "markdown",
      "metadata": {
        "id": "tGi_wLrbb2L3"
      },
      "source": [
        "There is a helper function in POST. You can specify both helper functions in your script and use whichever one you need."
      ]
    },
    {
      "cell_type": "code",
      "metadata": {
        "trusted": true,
        "id": "bzMIJTNjb2L4"
      },
      "source": [
        "def fetch_endpoint_POST(server, request, data, content_type='application/json'):\n",
        "\n",
        "    r = requests.post(server+request,\n",
        "                      headers={ \"Accept\" : content_type},\n",
        "                      data=data )\n",
        "\n",
        "    if not r.ok:\n",
        "        r.raise_for_status()\n",
        "        sys.exit()\n",
        "\n",
        "    if content_type == 'application/json':\n",
        "        return r.json()\n",
        "    else:\n",
        "        return r.text"
      ],
      "execution_count": null,
      "outputs": []
    },
    {
      "cell_type": "markdown",
      "metadata": {
        "id": "bpraLyrNb2L4"
      },
      "source": [
        "### Optional parameters\n",
        "\n",
        "In order to add optional parameters to your POST query, you can just add them onto the extention with a slash. For example if you wanted to mask UTRs when running the [sequence_id_post](http://rest.ensembl.org/documentation/info/sequence_id_post) endpoint, you could specify your extension as:\n",
        "\n",
        "        ext = \"sequence/id/mask_feature=1\"\n",
        "\n",
        "\n",
        "### Input\n",
        "\n",
        "Your input list for POST queries need to be a JSON list. You can create this from a list in Python using the [JSON module](https://docs.python.org/3/library/json.html):\n",
        "\n",
        "        data = json.dumps({ \"ids\" : my_list })\n",
        "\n",
        "### Output\n",
        "\n",
        "The Output from POST queries will be a dictionary of dictionaries. To access items, you could use your input list as your keys, or you could move through the dictionary with:\n",
        "\n",
        "\t\tfor key, value in post_query.items():\n",
        "\n",
        "## Example\n",
        "\n",
        "The following scripts inputs a list of variants in HGVS format into the VEP and gets out the IDs of known colocated variants, including failed variants (an optional parameter):"
      ]
    },
    {
      "cell_type": "code",
      "metadata": {
        "trusted": true,
        "id": "dOFOC-50b2L5"
      },
      "source": [
        "import requests, sys, json\n",
        "from pprint import pprint\n",
        "\n",
        "def fetch_endpoint(server, request, content_type):\n",
        "\n",
        "    r = requests.get(server+request, headers={ \"Accept\" : content_type})\n",
        "\n",
        "    if not r.ok:\n",
        "        r.raise_for_status()\n",
        "        sys.exit()\n",
        "\n",
        "    if content_type == 'application/json':\n",
        "        return r.json()\n",
        "    else:\n",
        "        return r.text\n",
        "\n",
        "def fetch_endpoint_POST(server, request, data, content_type):\n",
        "\n",
        "    r = requests.post(server+request,\n",
        "                      headers={ \"Accept\" : content_type},\n",
        "                      data=data )\n",
        "\n",
        "    if not r.ok:\n",
        "        r.raise_for_status()\n",
        "        sys.exit()\n",
        "\n",
        "    if content_type == 'application/json':\n",
        "        return r.json()\n",
        "    else:\n",
        "        return r.text\n",
        "\n",
        "# define the server, extension and content type\n",
        "server = \"http://rest.ensembl.org/\"\n",
        "con = \"application/json\"\n",
        "vep_ext = \"vep/homo_sapiens/hgvs/failed=1\"\n",
        "\n",
        "# create the list of HGVS annotations\n",
        "hgvs = [\"ENST00000366667.6:c.776T>C\", \"ENST00000335295.4:c.20A>T\", \"ENST00000415952.1:c.-149-34206G>T\"]\n",
        "\n",
        "# convert the list into json format\n",
        "hgvs_json = json.dumps({ \"hgvs_notations\" : hgvs })\n",
        "\n",
        "# run the query\n",
        "post_vep = fetch_endpoint_POST(server, vep_ext, hgvs_json, con)\n",
        "\n",
        "# move through the results\n",
        "for variant in post_vep:\n",
        "    \n",
        "    # get the data\n",
        "    input = variant['input']\n",
        "    colocated_list = []\n",
        "    for colocated in variant['colocated_variants']:\n",
        "        colocated_list.append(colocated['id'])  \n",
        "    print (input + \": \" + (', '.join(colocated_list)))"
      ],
      "execution_count": null,
      "outputs": []
    },
    {
      "cell_type": "markdown",
      "metadata": {
        "id": "8_7HQqpZb2L5"
      },
      "source": [
        "## Exercises 6\n",
        "\n",
        "1\\. Fetch the all the transcripts of *ESPN* using the lookup endpoint. Fetch the cDNA sequences of all transcripts using a single POST request, and print in FASTA format."
      ]
    },
    {
      "cell_type": "code",
      "metadata": {
        "trusted": true,
        "id": "Ij2j2ZGEb2L6"
      },
      "source": [
        "# Exercise 6.1"
      ],
      "execution_count": null,
      "outputs": []
    },
    {
      "cell_type": "markdown",
      "metadata": {
        "id": "1Q9ZBY0Ub2L7"
      },
      "source": [
        "2\\. You have the following list of variants:\n",
        "```rs1415919662, rs957333053, rs762944488, rs1372123943, rs553810871, rs1451237599, rs751376931```\n",
        "Get the variant class, evidence attributes, source and the most_severe_consequence for all variants using the variation POST endpoint."
      ]
    },
    {
      "cell_type": "code",
      "metadata": {
        "trusted": true,
        "id": "g5qGjZz8b2L9"
      },
      "source": [
        "# Exercise 6.2"
      ],
      "execution_count": null,
      "outputs": []
    },
    {
      "cell_type": "markdown",
      "metadata": {
        "id": "emK1xRw-cMLx"
      },
      "source": [
        "## Exercises 6 – answers\n",
        "\n",
        "1\\. Fetch the all the transcripts of *ESPN* using the lookup function. Fetch the cDNA sequences of all transcripts using a single POST request, and print in FASTA format."
      ]
    },
    {
      "cell_type": "code",
      "metadata": {
        "trusted": true,
        "id": "F3vc9vU6cML6"
      },
      "source": [
        "import requests, sys, json\n",
        "from pprint import pprint\n",
        "\n",
        "def fetch_endpoint(server, request, content_type):\n",
        "\n",
        "    r = requests.get(server+request, headers={ \"Accept\" : content_type})\n",
        "\n",
        "    if not r.ok:\n",
        "        r.raise_for_status()\n",
        "        sys.exit()\n",
        "\n",
        "    if content_type == 'application/json':\n",
        "        return r.json()\n",
        "    else:\n",
        "        return r.text\n",
        "\n",
        "def fetch_endpoint_POST(server, request, data, content_type):\n",
        "\n",
        "    r = requests.post(server+request,\n",
        "                      headers={ \"Accept\" : content_type},\n",
        "                      data=data )\n",
        "\n",
        "    if not r.ok:\n",
        "        r.raise_for_status()\n",
        "        sys.exit()\n",
        "\n",
        "    if content_type == 'application/json':\n",
        "        return r.json()\n",
        "    else:\n",
        "        return r.text\n",
        "    \n",
        "# Get the gene name\n",
        "gene_name = \"ESPN\"\n",
        "transcripts = []\n",
        "\n",
        "# define the general URL parameters\n",
        "server = \"http://rest.ensembl.org/\"\n",
        "con = \"application/json\"\n",
        "ext_get_gene = \"lookup/symbol/homo_sapiens/\" + gene_name + \"?expand=1;\"\n",
        "\n",
        "get_gene = fetch_endpoint(server, ext_get_gene, con)\n",
        "\n",
        "for transcript in get_gene['Transcript']:\n",
        "    transcripts.append(transcript['id'])\n",
        " \n",
        "data = json.dumps({ \"ids\" : transcripts })\n",
        "\n",
        "ext_sequence = '/sequence/id?type=cdna'\n",
        "\n",
        "sequences = fetch_endpoint_POST(server, ext_sequence, data, \"text/x-fasta\")\n",
        "\n",
        "print(sequences)\n",
        "\n",
        "# Alternatively:\n",
        "\n",
        "#sequences = fetch_endpoint_POST(server, ext_sequence, data, con)\n",
        "#for query in sequences:\n",
        "#    print (\">\", query['id'])\n",
        "#    print (query['seq'])"
      ],
      "execution_count": null,
      "outputs": []
    },
    {
      "cell_type": "markdown",
      "metadata": {
        "id": "IFXa9WXjcML7"
      },
      "source": [
        "2\\. You have the following list of variants:\n",
        "```rs1415919662, rs957333053, rs762944488, rs1372123943, rs553810871, rs1451237599, rs751376931```\n",
        "Get the variant class, evidence attributes, source and the most_severe_consequence for all variants using the variant POST endpoint."
      ]
    },
    {
      "cell_type": "code",
      "metadata": {
        "trusted": true,
        "id": "N9kZ5wSOcML8"
      },
      "source": [
        "import requests, sys, json\n",
        "from pprint import pprint\n",
        "\n",
        "def fetch_endpoint(server, request, content_type):\n",
        "\n",
        "    r = requests.get(server+request, headers={ \"Accept\" : content_type})\n",
        "\n",
        "    if not r.ok:\n",
        "        r.raise_for_status()\n",
        "        sys.exit()\n",
        "\n",
        "    if content_type == 'application/json':\n",
        "        return r.json()\n",
        "    else:\n",
        "        return r.text\n",
        "\n",
        "def fetch_endpoint_POST(server, request, data, content_type):\n",
        "\n",
        "    r = requests.post(server+request,\n",
        "                      headers={ \"Accept\" : content_type},\n",
        "                      data=data )\n",
        "\n",
        "    if not r.ok:\n",
        "        r.raise_for_status()\n",
        "        sys.exit()\n",
        "\n",
        "    if content_type == 'application/json':\n",
        "        return r.json()\n",
        "    else:\n",
        "        return r.text\n",
        "\n",
        "server = \"http://rest.ensembl.org/\"\n",
        "con = \"application/json\"\n",
        "\n",
        "variant_ids = [\"rs1415919662\", \"rs957333053\", \"rs762944488\", \"rs1372123943\", \"rs553810871\", \"rs1451237599\", \"rs751376931\"]\n",
        "\n",
        "data = json.dumps({ \"ids\" : variant_ids })\n",
        "\n",
        "var_ext = \"variation/homo_sapiens\"\n",
        "\n",
        "post_variants = fetch_endpoint_POST(server, var_ext, data, con)\n",
        "\n",
        "print (\"ID\\tClass\\tEvidence\\tSource\\tMost severe consequence\")\n",
        "\n",
        "for key, value in post_variants.items():\n",
        " \n",
        "    id = post_variants[key]['name']\n",
        "    cls = post_variants[key]['var_class']\n",
        "    evidence = post_variants[key]['evidence']\n",
        "    source = post_variants[key]['source']\n",
        "    severe = post_variants[key]['most_severe_consequence']\n",
        " \n",
        "    print (id + \"\\t\" + cls + \"\\t\" + \", \".join(evidence) + \"\\t\" + source + \"\\t\" + severe)"
      ],
      "execution_count": null,
      "outputs": []
    },
    {
      "cell_type": "markdown",
      "metadata": {
        "id": "4W-E8YTycYtT"
      },
      "source": [
        "# Rate limiting\n",
        "\n",
        "Requests are rate limited to prevent a single user from monopolising the resources. We are allowed 55000 requests over an hour (3600 seconds): an average 15 requests per second. This is per **IP address** so another person in your organisation can limit your access to the REST API.\n",
        "\n",
        "The number of requests remaining is shown in the headers."
      ]
    },
    {
      "cell_type": "code",
      "metadata": {
        "id": "hrTcX3Dkl_hG"
      },
      "source": [
        "import requests, sys\n",
        "from pprint import pprint\n",
        "\n",
        "server = \"http://rest.ensembl.org/\"\n",
        "con = \"application/json\"\n",
        "ext_ping = \"/info/ping?\"\n",
        "\n",
        "ping = requests.get(server+ext_ping, headers={ \"Accept\" : con})\n",
        "\n",
        "pprint(ping.headers)"
      ],
      "execution_count": null,
      "outputs": []
    },
    {
      "cell_type": "markdown",
      "metadata": {
        "id": "RqQa3gWg6r6M"
      },
      "source": [
        "We can pull this parameter out to see how it changes over time. In this example script we run ping repeatedly and get the number of queries remaining from the header:"
      ]
    },
    {
      "cell_type": "code",
      "metadata": {
        "trusted": true,
        "id": "clSRPG1dcYta"
      },
      "source": [
        "import requests, sys\n",
        "\n",
        "server = \"http://rest.ensembl.org/\"\n",
        "con = \"application/json\"\n",
        "ext_ping = \"/info/ping?\"\n",
        "\n",
        "x = 0\n",
        "\n",
        "while x < 25:\n",
        "\n",
        "    # submit the query\n",
        "    ping = requests.get(server+ext_ping, headers={ \"Accept\" : con})\n",
        "    x += 1\n",
        "    print (\"count:\", x, \"status:\", ping.status_code, \"remaining:\", ping.headers['X-RateLimit-Remaining'])"
      ],
      "execution_count": null,
      "outputs": []
    },
    {
      "cell_type": "markdown",
      "metadata": {
        "id": "_SdmJWjL7KFG"
      },
      "source": [
        "If we're using a the REST API in a long script or pipeline, we want to ensure we do not exceed our limits. To do this we can add wait steps to the helper function, dependent on the remaining limits. These version of the helper functions add in a 1s wait whenever the remaining queries get below 50000:"
      ]
    },
    {
      "cell_type": "code",
      "metadata": {
        "id": "0xb5MJyC5L-v"
      },
      "source": [
        "import requests, sys, time, json\n",
        "\n",
        "def fetch_endpoint(server, request, content_type):\n",
        "\n",
        "    r = requests.get(server+request, headers={ \"Accept\" : content_type})\n",
        "\n",
        "    if not r.ok:\n",
        "        r.raise_for_status()\n",
        "        sys.exit()\n",
        "\n",
        "    if int(r.headers['X-RateLimit-Remaining']) < 50000:\n",
        "        time.sleep(1)\n",
        "\n",
        "    if content_type == 'application/json':\n",
        "        return r.json()\n",
        "    else:\n",
        "        return r.text\n",
        "\n",
        "def fetch_endpoint_POST(server, request, data, content_type):\n",
        "\n",
        "    r = requests.post(server+request,\n",
        "                      headers={ \"Accept\" : content_type},\n",
        "                      data=data )\n",
        "\n",
        "    if not r.ok:\n",
        "        r.raise_for_status()\n",
        "        sys.exit()\n",
        "\n",
        "    if int(r.headers['X-RateLimit-Remaining']) < 50000:\n",
        "        time.sleep(1)\n",
        "\n",
        "    if content_type == 'application/json':\n",
        "        return r.json()\n",
        "    else:\n",
        "        return r.text\n"
      ],
      "execution_count": null,
      "outputs": []
    },
    {
      "cell_type": "markdown",
      "metadata": {
        "id": "Pa7Nb_jG8KM7"
      },
      "source": [
        "Now, we can run our ping with these:"
      ]
    },
    {
      "cell_type": "code",
      "metadata": {
        "id": "FI-9a5j78Rzg"
      },
      "source": [
        "import requests, sys, time, json, datetime\n",
        "\n",
        "def fetch_endpoint(server, request, content_type):\n",
        "\n",
        "    r = requests.get(server+request, headers={ \"Accept\" : content_type})\n",
        "\n",
        "    if not r.ok:\n",
        "        r.raise_for_status()\n",
        "        sys.exit()\n",
        "\n",
        "    if int(r.headers['X-RateLimit-Remaining']) < 550000:\n",
        "        time.sleep(1)\n",
        "\n",
        "    if content_type == 'application/json':\n",
        "        return r.json()\n",
        "    else:\n",
        "        return r.text\n",
        "\n",
        "server = \"http://rest.ensembl.org/\"\n",
        "con = \"application/json\"\n",
        "ext_ping = \"/info/ping?\"\n",
        "\n",
        "x = 0\n",
        "\n",
        "while x < 25:\n",
        "  ping = fetch_endpoint (server, ext_ping, con)\n",
        "  print (\"count:\", x, \", time\", datetime.datetime.now())\n",
        "  x += 1"
      ],
      "execution_count": null,
      "outputs": []
    },
    {
      "cell_type": "markdown",
      "metadata": {
        "id": "OrBzbUaAOLZL"
      },
      "source": [
        "If you're doing anything on a large scale, such as moving through a long (maybe genome-wide) list or putting lots of queries together into a pipeline, we recommend using the version of helper functions with the wait step incorporated."
      ]
    }
  ]
}